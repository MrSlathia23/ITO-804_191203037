{
  "nbformat": 4,
  "nbformat_minor": 0,
  "metadata": {
    "colab": {
      "provenance": []
    },
    "kernelspec": {
      "name": "python3",
      "display_name": "Python 3"
    },
    "language_info": {
      "name": "python"
    }
  },
  "cells": [
    {
      "cell_type": "code",
      "execution_count": 1,
      "metadata": {
        "id": "LB3x7e9eRqea"
      },
      "outputs": [],
      "source": [
        "def find_best_days(prices):\n",
        "    \"\"\"\n",
        "    Given a list of daily stock prices, returns the best days to buy and sell stocks in order to maximize profit.\n",
        "    :param prices: a list of integers representing the stock prices for each day, starting from the first day\n",
        "    :return: a tuple of integers representing the best days to buy and sell stocks\n",
        "    \"\"\"\n",
        "    n = len(prices)\n",
        "    if n < 2:\n",
        "        return ()\n",
        "    \n",
        "    buy_day, sell_day = 0, 0\n",
        "    max_profit = 0\n",
        "    \n",
        "    for i in range(1, n):\n",
        "        if prices[i] < prices[buy_day]:\n",
        "            buy_day = i\n",
        "        elif prices[i] - prices[buy_day] > max_profit:\n",
        "            max_profit = prices[i] - prices[buy_day]\n",
        "            sell_day = i\n",
        "    \n",
        "    if max_profit == 0:\n",
        "        return ()\n",
        "    else:\n",
        "        return (buy_day+1, sell_day+1)"
      ]
    },
    {
      "cell_type": "code",
      "source": [
        "prices = [100, 180, 260, 310, 40, 535, 695]\n",
        "best_days = find_best_days(prices)\n",
        "print(best_days)  # Output: (1, 4), (5, 7)\n"
      ],
      "metadata": {
        "colab": {
          "base_uri": "https://localhost:8080/"
        },
        "id": "W5B8iGjBR0WB",
        "outputId": "ed78d6cd-bdbf-4d77-897d-6bac0e8b08b3"
      },
      "execution_count": 2,
      "outputs": [
        {
          "output_type": "stream",
          "name": "stdout",
          "text": [
            "(5, 7)\n"
          ]
        }
      ]
    },
    {
      "cell_type": "code",
      "source": [
        "from typing import List, Optional\n",
        "\n",
        "def earliest_trilogy_year(titles: List[str], years: List[int]) -> Optional[int]:\n",
        "    # sort the books by their publication years\n",
        "    sorted_books = sorted(zip(years, titles))\n",
        "    n = len(sorted_books)\n",
        "    for i in range(n - 2):\n",
        "        # check if the current book and the next two books were published in consecutive years\n",
        "        if sorted_books[i][0] + 1 == sorted_books[i + 1][0] and sorted_books[i + 1][0] + 1 == sorted_books[i + 2][0]:\n",
        "            return sorted_books[i][0]\n",
        "    return None\n"
      ],
      "metadata": {
        "id": "sMsSxdLZR4ax"
      },
      "execution_count": 3,
      "outputs": []
    },
    {
      "cell_type": "code",
      "source": [
        "titles = ['The Hunger Games', 'Catching Fire', 'Mockingjay', 'The Lord of the Rings', 'The Two Towers', 'The Return of the King', 'Divergent', 'Insurgent', 'Allegiant']\n",
        "years = [2008, 2009, 2010, 1954, 1955, 1956, 2011, 2012, 2013]\n",
        "print(earliest_trilogy_year(titles, years))\n"
      ],
      "metadata": {
        "colab": {
          "base_uri": "https://localhost:8080/"
        },
        "id": "MuPhb_zFR_nB",
        "outputId": "9e48896a-864e-4050-f8af-cbaf7986d7b9"
      },
      "execution_count": 4,
      "outputs": [
        {
          "output_type": "stream",
          "name": "stdout",
          "text": [
            "1954\n"
          ]
        }
      ]
    },
    {
      "cell_type": "code",
      "source": [
        "import csv\n",
        "\n",
        "# Open the CSV file and read in the data\n",
        "with open('/content/3_CSV.csv') as file:\n",
        "    reader = csv.reader(file)\n",
        "    # Skip the header row\n",
        "    next(reader)\n",
        "    # Create an empty dictionary to store the prices for each stock\n",
        "    prices = {}\n",
        "    # Loop through each row of the CSV file\n",
        "    for row in reader:\n",
        "        # Extract the symbol, date, and price from the row\n",
        "        ticker, date, price = row\n",
        "        # Convert the price from a string to a float\n",
        "        price = float(price)\n",
        "        # Check if the ticker symbol is already in the dictionary\n",
        "        if ticker in prices:\n",
        "            # If the ticker symbol is already in the dictionary, add the price to the list of prices for that stock\n",
        "            prices[ticker].append(price)\n",
        "        else:\n",
        "            # If the ticker symbol is not already in the dictionary, create a new list with the first price\n",
        "            prices[ticker] = [price]\n",
        "\n",
        "# Loop through the dictionary of prices for each stock\n",
        "for ticker, price_list in prices.items():\n",
        "    # Calculate the highest and lowest prices for the stock\n",
        "    highest_price = max(price_list)\n",
        "    lowest_price = min(price_list)\n",
        "    # Print the results\n",
        "    print(f\"{ticker}: Highest Price = ${highest_price:.2f}, Lowest Price = ${lowest_price:.2f}\")"
      ],
      "metadata": {
        "colab": {
          "base_uri": "https://localhost:8080/"
        },
        "id": "fQEgL_ZHSC0w",
        "outputId": "22e9b369-a5c3-4ccc-8762-4a047aff2d76"
      },
      "execution_count": 6,
      "outputs": [
        {
          "output_type": "stream",
          "name": "stdout",
          "text": [
            "AAPL: Highest Price = $142.20, Lowest Price = $135.90\n",
            "GOOG: Highest Price = $2125.50, Lowest Price = $2098.00\n",
            "MSFT: Highest Price = $345.20, Lowest Price = $342.10\n"
          ]
        }
      ]
    },
    {
      "cell_type": "code",
      "source": [
        "original_list = [[10, 20], [40], [30, 56, 25], [10, 20], [33], [40]]\n",
        "\n",
        "new_list = [list(x) for x in set(tuple(x) for x in original_list)]\n",
        "\n",
        "print(new_list)\n"
      ],
      "metadata": {
        "colab": {
          "base_uri": "https://localhost:8080/"
        },
        "id": "WCrNs5P0SqzK",
        "outputId": "a286abb3-087a-46de-8e57-55646ef0c683"
      },
      "execution_count": 7,
      "outputs": [
        {
          "output_type": "stream",
          "name": "stdout",
          "text": [
            "[[40], [33], [30, 56, 25], [10, 20]]\n"
          ]
        }
      ]
    },
    {
      "cell_type": "code",
      "source": [
        "def shift_left(lst):\n",
        "    if len(lst) <= 1:\n",
        "        return lst\n",
        "    else:\n",
        "        return lst[1:] + [lst[0]]\n",
        "\n",
        "# example usage\n",
        "lst = [1, 2, 3]\n",
        "shifted_lst = shift_left(lst)\n",
        "print(shifted_lst)\n"
      ],
      "metadata": {
        "colab": {
          "base_uri": "https://localhost:8080/"
        },
        "id": "gxyr8_4sS4Py",
        "outputId": "b0938e2f-b77a-49a2-a269-d790f20e98b7"
      },
      "execution_count": 8,
      "outputs": [
        {
          "output_type": "stream",
          "name": "stdout",
          "text": [
            "[2, 3, 1]\n"
          ]
        }
      ]
    },
    {
      "cell_type": "code",
      "source": [
        "original_list = [11, 45, 8, 11, 23, 45, 23, 45, 89, 11, 89]\n",
        "\n",
        "count_dict = {}\n",
        "for element in original_list:\n",
        "    if element in count_dict:\n",
        "        count_dict[element] += 1\n",
        "    else:\n",
        "        count_dict[element] = 1\n",
        "\n",
        "print(\"Printing count of each item\", count_dict)\n"
      ],
      "metadata": {
        "colab": {
          "base_uri": "https://localhost:8080/"
        },
        "id": "6Nnv60s5S5-6",
        "outputId": "83fda9cc-d2bb-422d-d88d-7ceafce2458b"
      },
      "execution_count": 9,
      "outputs": [
        {
          "output_type": "stream",
          "name": "stdout",
          "text": [
            "Printing count of each item {11: 3, 45: 3, 8: 1, 23: 2, 89: 2}\n"
          ]
        }
      ]
    },
    {
      "cell_type": "code",
      "source": [],
      "metadata": {
        "id": "aaI-kC4RS_Z6"
      },
      "execution_count": null,
      "outputs": []
    }
  ]
}